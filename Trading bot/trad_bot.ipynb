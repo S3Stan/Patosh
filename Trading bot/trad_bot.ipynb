{
 "cells": [
  {
   "cell_type": "markdown",
   "metadata": {},
   "source": [
    "This is a python trading bot;\n",
    "\n",
    "- GOAL: Build an alogo trading bot that can incoporate price action strategies with the help of AI"
   ]
  },
  {
   "cell_type": "code",
   "execution_count": 1,
   "metadata": {},
   "outputs": [],
   "source": [
    "# imports\n",
    "import requests\n",
    "import source_Code\n",
    "import json\n",
    "import numpy as np\n",
    "import pandas as pd\n",
    "from datetime import datetime, timedelta\n",
    "\n",
    "\n",
    "BASE_CURRENCY_SYMBOL = 'EUR'\n",
    "base_currency = str(BASE_CURRENCY_SYMBOL)\n",
    "base_currency = str(BASE_CURRENCY_SYMBOL)"
   ]
  },
  {
   "cell_type": "code",
   "execution_count": 2,
   "metadata": {},
   "outputs": [
    {
     "name": "stdout",
     "output_type": "stream",
     "text": [
      "Exchange rate for  EUR : {'EURUSD': 1.08873, 'EURAUD': 1.664215, 'EURGBP': 0.87149, 'EURCAD': 1.490259}\n",
      "Base currency: EUR\n",
      "Timestamp: 1700694844\n"
     ]
    }
   ],
   "source": [
    "# # 1. Set the base and desired financial assets for analysis:\n",
    "\n",
    "desired_currency_list = ['USD', 'AUD', 'GBP', 'CAD']\n",
    "\n",
    "# 2. Make the API request using requests library to get get live data \n",
    "full_base_currency_list = []\n",
    "\n",
    "# 2.1 Append the base currency to new desired currency list\n",
    "for single_pair in desired_currency_list:\n",
    "    curren_pair = base_currency + single_pair\n",
    "    full_base_currency_list.append(curren_pair)\n",
    "       \n",
    "# 2.2 Get the price of the currency pair.\n",
    "live_price_data = source_Code.get_live_price_update(base_currency, full_base_currency_list)\n",
    "response = requests.get(live_price_data)\n",
    "\n",
    "\n",
    "# 3. Check if the request was successful (status code 200)\n",
    "if response.status_code == 200:\n",
    "    # Parse the JSON content of the response\n",
    "    data = response.json()\n",
    "\n",
    "    # Exchange rate data is stored in data['rates']\n",
    "    desired_currency_pair_prices = {currency_pair: data['quotes'][currency_pair] for currency_pair in full_base_currency_list}\n",
    "    print('Exchange rate for ', str(base_currency), ':', desired_currency_pair_prices)\n",
    "\n",
    "    # Base currency is stored in data['base']\n",
    "    print('Base currency:', data['source'])\n",
    "\n",
    "    # Timestamp can be accessed in data['timestamp']\n",
    "    print('Timestamp:', data['timestamp'])\n",
    "\n",
    "else:\n",
    "    print(f\"Error: {response.status_code} - {response.text}\")\n",
    "\n",
    "\n"
   ]
  },
  {
   "cell_type": "code",
   "execution_count": 9,
   "metadata": {},
   "outputs": [
    {
     "ename": "TypeError",
     "evalue": "descriptor 'strftime' for 'datetime.date' objects doesn't apply to a 'str' object",
     "output_type": "error",
     "traceback": [
      "\u001b[1;31m---------------------------------------------------------------------------\u001b[0m",
      "\u001b[1;31mTypeError\u001b[0m                                 Traceback (most recent call last)",
      "\u001b[1;32mc:\\Users\\stanf\\OneDrive\\Documents\\Projects\\Python\\Trading bot\\Patosh\\Trading bot\\trad_bot.ipynb Cell 4\u001b[0m line \u001b[0;36m4\n\u001b[0;32m      <a href='vscode-notebook-cell:/c%3A/Users/stanf/OneDrive/Documents/Projects/Python/Trading%20bot/Patosh/Trading%20bot/trad_bot.ipynb#W3sZmlsZQ%3D%3D?line=1'>2</a>\u001b[0m today_date \u001b[39m=\u001b[39m datetime\u001b[39m.\u001b[39mnow()\n\u001b[0;32m      <a href='vscode-notebook-cell:/c%3A/Users/stanf/OneDrive/Documents/Projects/Python/Trading%20bot/Patosh/Trading%20bot/trad_bot.ipynb#W3sZmlsZQ%3D%3D?line=2'>3</a>\u001b[0m chosen_date \u001b[39m=\u001b[39m \u001b[39m\"\u001b[39m\u001b[39m2023-10-13\u001b[39m\u001b[39m\"\u001b[39m\n\u001b[1;32m----> <a href='vscode-notebook-cell:/c%3A/Users/stanf/OneDrive/Documents/Projects/Python/Trading%20bot/Patosh/Trading%20bot/trad_bot.ipynb#W3sZmlsZQ%3D%3D?line=3'>4</a>\u001b[0m date_string \u001b[39m=\u001b[39m datetime\u001b[39m.\u001b[39;49mstrftime(chosen_date, \u001b[39m\"\u001b[39;49m\u001b[39m%\u001b[39;49m\u001b[39mY-\u001b[39;49m\u001b[39m%\u001b[39;49m\u001b[39mm-\u001b[39;49m\u001b[39m%d\u001b[39;49;00m\u001b[39m\"\u001b[39;49m)\n\u001b[0;32m      <a href='vscode-notebook-cell:/c%3A/Users/stanf/OneDrive/Documents/Projects/Python/Trading%20bot/Patosh/Trading%20bot/trad_bot.ipynb#W3sZmlsZQ%3D%3D?line=7'>8</a>\u001b[0m get_historical_data \u001b[39m=\u001b[39m source_Code\u001b[39m.\u001b[39mget_historical_price_update(date_string)\n\u001b[0;32m      <a href='vscode-notebook-cell:/c%3A/Users/stanf/OneDrive/Documents/Projects/Python/Trading%20bot/Patosh/Trading%20bot/trad_bot.ipynb#W3sZmlsZQ%3D%3D?line=8'>9</a>\u001b[0m \u001b[39mprint\u001b[39m(get_historical_data)\n",
      "\u001b[1;31mTypeError\u001b[0m: descriptor 'strftime' for 'datetime.date' objects doesn't apply to a 'str' object"
     ]
    }
   ],
   "source": [
    "# \n",
    "today_date = datetime.now()\n",
    "chosen_date = \"2023-10-13\"\n",
    "date_string = datetime.strftime(chosen_date, \"%Y-%m-%d\")\n",
    "\n",
    "\n",
    "\n",
    "\n",
    "get_historical_data = source_Code.get_historical_price_update(date_string)\n",
    "print(get_historical_data)\n"
   ]
  },
  {
   "cell_type": "code",
   "execution_count": null,
   "metadata": {},
   "outputs": [],
   "source": []
  },
  {
   "cell_type": "code",
   "execution_count": 3,
   "metadata": {},
   "outputs": [],
   "source": [
    "import tkinter as tk\n",
    "from tkinter import ttk\n",
    "from tkcalendar import Calendar, DateEntry\n",
    "from datetime import datetime\n",
    "\n",
    "def on_date_change():\n",
    "    selected_date = cal.get_date()\n",
    "    print(\"Selected Date:\", selected_date)\n",
    "\n",
    "# Create the main window\n",
    "root = tk.Tk()\n",
    "root.title(\"Date-Time Picker\")\n",
    "\n",
    "# Create a DateEntry widget\n",
    "cal = DateEntry(root, width=12, background='darkblue', foreground='white', borderwidth=2)\n",
    "cal.grid(row=0, column=0, padx=10, pady=10)\n",
    "\n",
    "# Create a button to trigger an action on date selection\n",
    "button = ttk.Button(root, text=\"Get Selected Date\", command=on_date_change)\n",
    "button.grid(row=1, column=0, padx=10, pady=10)\n",
    "\n",
    "# Run the main loop\n",
    "root.mainloop()"
   ]
  },
  {
   "cell_type": "code",
   "execution_count": 5,
   "metadata": {},
   "outputs": [
    {
     "ename": "NameError",
     "evalue": "name 'live_price_data' is not defined",
     "output_type": "error",
     "traceback": [
      "\u001b[1;31m---------------------------------------------------------------------------\u001b[0m",
      "\u001b[1;31mNameError\u001b[0m                                 Traceback (most recent call last)",
      "\u001b[1;32mc:\\Users\\stanf\\OneDrive\\Documents\\Projects\\Python\\Trading bot\\Patosh\\Trading bot\\trad_bot.ipynb Cell 7\u001b[0m line \u001b[0;36m2\n\u001b[0;32m      <a href='vscode-notebook-cell:/c%3A/Users/stanf/OneDrive/Documents/Projects/Python/Trading%20bot/Patosh/Trading%20bot/trad_bot.ipynb#W6sZmlsZQ%3D%3D?line=0'>1</a>\u001b[0m \u001b[39m# Make a GET request\u001b[39;00m\n\u001b[1;32m----> <a href='vscode-notebook-cell:/c%3A/Users/stanf/OneDrive/Documents/Projects/Python/Trading%20bot/Patosh/Trading%20bot/trad_bot.ipynb#W6sZmlsZQ%3D%3D?line=1'>2</a>\u001b[0m response \u001b[39m=\u001b[39m requests\u001b[39m.\u001b[39mget(live_price_data)\n\u001b[0;32m      <a href='vscode-notebook-cell:/c%3A/Users/stanf/OneDrive/Documents/Projects/Python/Trading%20bot/Patosh/Trading%20bot/trad_bot.ipynb#W6sZmlsZQ%3D%3D?line=3'>4</a>\u001b[0m \u001b[39m# Check if the request was successful (status code 200)\u001b[39;00m\n\u001b[0;32m      <a href='vscode-notebook-cell:/c%3A/Users/stanf/OneDrive/Documents/Projects/Python/Trading%20bot/Patosh/Trading%20bot/trad_bot.ipynb#W6sZmlsZQ%3D%3D?line=4'>5</a>\u001b[0m \u001b[39mif\u001b[39;00m response\u001b[39m.\u001b[39mstatus_code \u001b[39m==\u001b[39m \u001b[39m200\u001b[39m:\n\u001b[0;32m      <a href='vscode-notebook-cell:/c%3A/Users/stanf/OneDrive/Documents/Projects/Python/Trading%20bot/Patosh/Trading%20bot/trad_bot.ipynb#W6sZmlsZQ%3D%3D?line=5'>6</a>\u001b[0m     \u001b[39m# The content of the response (usually in JSON format for APIs)\u001b[39;00m\n",
      "\u001b[1;31mNameError\u001b[0m: name 'live_price_data' is not defined"
     ]
    }
   ],
   "source": [
    "# Make a GET request\n",
    "response = requests.get(live_price_data)\n",
    "\n",
    "# Check if the request was successful (status code 200)\n",
    "if response.status_code == 200:\n",
    "    # The content of the response (usually in JSON format for APIs)\n",
    "    data = response.json()\n",
    "    print(\"Data from the API:\")\n",
    "    print(data)\n",
    "else:\n",
    "    print(f\"Error: {response.status_code} - {response.text}\")"
   ]
  },
  {
   "cell_type": "code",
   "execution_count": 9,
   "metadata": {},
   "outputs": [],
   "source": [
    "import tkinter as tk\n",
    "from tkinter import messagebox\n",
    "\n",
    "def on_button_click():\n",
    "    user_name = entry.get()\n",
    "    messagebox.showinfo(\"Greetings\", f\"Hello, {user_name}!\")\n",
    "\n",
    "# Create the main window\n",
    "root = tk.Tk()\n",
    "root.title(\"Simple GUI App\")\n",
    "\n",
    "# Create a label\n",
    "label = tk.Label(root, text=\"Enter your name:\")\n",
    "label.pack(pady=10)\n",
    "\n",
    "# Create an entry widget\n",
    "entry = tk.Entry(root)\n",
    "entry.pack(pady=10)\n",
    "\n",
    "# Create a button\n",
    "button = tk.Button(root, text=\"Say Hello\", command=on_button_click)\n",
    "button.pack(pady=10)\n",
    "\n",
    "# Run the main loop\n",
    "root.mainloop()\n"
   ]
  },
  {
   "cell_type": "code",
   "execution_count": 2,
   "metadata": {},
   "outputs": [],
   "source": [
    "# imports\n",
    "import ccxt\n",
    "import pandas as pd"
   ]
  },
  {
   "cell_type": "code",
   "execution_count": null,
   "metadata": {},
   "outputs": [],
   "source": [
    "# # Function to input data into strategy\n",
    "\n",
    "def get_data(currency_pair, timeframe, limit_data):\n",
    "    broker_= cctx.binance()\n",
    "    ohlcv = broker_.fetch_ohlcv(currency_pair, timeframe, limit_data)\n",
    "    \n",
    "    df = pd.DataFrame(ohlcv, columns=['timestamp', 'open', 'high', 'low', 'close', 'volume'])\n",
    "    df['timestamp'] = pd.to_datetime(df['timestamp'], unit='ms')\n",
    "    return df.set_index('timestamp')\n",
    "                      "
   ]
  },
  {
   "cell_type": "code",
   "execution_count": 4,
   "metadata": {},
   "outputs": [],
   "source": [
    "# startegy writing\n",
    "def moving_average_crossover_strategy(df, short_window, long_window):\n",
    "    signals = pd.DataFrame(index=df.index)\n",
    "    signals['signal'] = 0.0\n",
    "    \n",
    "    # Create short simple moving average\n",
    "    signals['short_mavg'] = df['close'].rolling(window=short_window, min_periods=1, center=False).mean()\n",
    "\n",
    "    # Create long simple moving average\n",
    "    signals['long_mavg'] = df['close'].rolling(window=long_window, min_periods=1, center=False).mean()\n",
    "\n",
    "    # Create signals\n",
    "    signals['signal'][short_window:] = np.where(signals['short_mavg'][short_window:] > signals['long_mavg'][short_window:], 1.0, 0.0)\n",
    "\n",
    "    # Generate trading orders\n",
    "    signals['positions'] = signals['signal'].diff()\n",
    "\n",
    "    return signals"
   ]
  },
  {
   "cell_type": "code",
   "execution_count": 5,
   "metadata": {},
   "outputs": [],
   "source": [
    "# # Execute trade\n",
    "\n",
    "\n",
    "# def execute_trades(signals):\n",
    "#     broker_= cctx.binance()\n",
    "#     curreny_pair = 'EUR/USD'\n",
    "    \n",
    "#     for index, row in signals.iterrows():\n",
    "#         if row['positions'] == 1.0:\n",
    "#             print(\"Buy Signal - Execute Buy Order\")\n",
    "            \n",
    "#         elif row['positions'] == -1.0:\n",
    "#             print(\"Sell Signal - Execute Sell Order\")\n",
    "                                                                                                                                                                                                                                                                                                                                                                                                                \n",
    "\n",
    "# # Example usage\n",
    "# if __name__ == '__main__':\n",
    "#     symbol = 'EUR/USD'\n",
    "#     timeframe = '1h'\n",
    "#     limit = 100\n",
    "#     short_window = 40\n",
    "#     long_window = 100\n",
    "\n",
    "#     historical_data = get_data(symbol, timeframe, limit)\n",
    "#     signals = moving_average_crossover_strategy(historical_data, short_window, long_window)\n",
    "#     execute_trades(signals)\n",
    "\n",
    "        \n"
   ]
  },
  {
   "cell_type": "code",
   "execution_count": null,
   "metadata": {},
   "outputs": [],
   "source": [
    "# "
   ]
  },
  {
   "cell_type": "code",
   "execution_count": null,
   "metadata": {},
   "outputs": [],
   "source": []
  },
  {
   "cell_type": "code",
   "execution_count": null,
   "metadata": {},
   "outputs": [],
   "source": [
    "import tkinter as tk\n",
    "from tkinter import messagebox\n",
    "\n",
    "def on_button_click():\n",
    "    user_name = entry.get()\n",
    "    messagebox.showinfo(\"Greetings\", f\"Hello, {user_name}!\")\n",
    "\n",
    "# Create the main window\n",
    "root = tk.Tk()\n",
    "root.title(\"Simple GUI App\")\n",
    "\n",
    "# Create a label\n",
    "label = tk.Label(root, text=\"Enter your name:\")\n",
    "label.pack(pady=10)\n",
    "\n",
    "# Create an entry widget\n",
    "entry = tk.Entry(root)\n",
    "entry.pack(pady=10)\n",
    "\n",
    "# Create a button\n",
    "button = tk.Button(root, text=\"Say Hello\", command=on_button_click)\n",
    "button.pack(pady=10)\n",
    "\n",
    "# Run the main loop\n",
    "root.mainloop()\n"
   ]
  }
 ],
 "metadata": {
  "kernelspec": {
   "display_name": "Python 3",
   "language": "python",
   "name": "python3"
  },
  "language_info": {
   "codemirror_mode": {
    "name": "ipython",
    "version": 3
   },
   "file_extension": ".py",
   "mimetype": "text/x-python",
   "name": "python",
   "nbconvert_exporter": "python",
   "pygments_lexer": "ipython3",
   "version": "3.11.4"
  }
 },
 "nbformat": 4,
 "nbformat_minor": 2
}
