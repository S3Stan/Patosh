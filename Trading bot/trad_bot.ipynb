{
 "cells": [
  {
   "cell_type": "markdown",
   "metadata": {},
   "source": [
    "This is a python trading bot;\n",
    "\n",
    "- GOAL: Build an alogo trading bot that can incoporate price action strategies with the help of AI"
   ]
  },
  {
   "cell_type": "code",
   "execution_count": 1,
   "metadata": {},
   "outputs": [],
   "source": [
    "# imports\n",
    "import requests\n",
    "import source_Code\n",
    "import json\n",
    "import numpy as np\n",
    "import pandas as pd\n",
    "from datetime import datetime, timedelta"
   ]
  },
  {
   "cell_type": "code",
   "execution_count": 2,
   "metadata": {},
   "outputs": [
    {
     "name": "stdout",
     "output_type": "stream",
     "text": [
      "Exchange rate for  EUR : {'EURUSD': 1.086697, 'EURAUD': 1.664055, 'EURGBP': 0.872237, 'EURCAD': 1.493507}\n",
      "Base currency: EUR\n",
      "Timestamp: 1700668143\n"
     ]
    }
   ],
   "source": [
    "# # 1. Set the base and desired financial assets for analysis:\n",
    "BASE_CURRENCY_SYMBOL = 'EUR'\n",
    "base_currency = str(BASE_CURRENCY_SYMBOL)\n",
    "desired_currency_list = ['USD', 'AUD', 'GBP', 'CAD']\n",
    "\n",
    "# 2. Make the API request using requests library to get get live data \n",
    "full_base_currency_list = []\n",
    "\n",
    "# 2.1 Append the base currency to new desired currency list\n",
    "for single_pair in desired_currency_list:\n",
    "    curren_pair = base_currency + single_pair\n",
    "    full_base_currency_list.append(curren_pair)\n",
    "       \n",
    "# 2.2 Get the price of the currency pair.\n",
    "live_price_data = source_Code.get_live_price_update(base_currency, full_base_currency_list)\n",
    "response = requests.get(live_price_data)\n",
    "\n",
    "\n",
    "# 3. Check if the request was successful (status code 200)\n",
    "if response.status_code == 200:\n",
    "    # Parse the JSON content of the response\n",
    "    data = response.json()\n",
    "\n",
    "    # Exchange rate data is stored in data['rates']\n",
    "    desired_currency_pair_prices = {currency_pair: data['quotes'][currency_pair] for currency_pair in full_base_currency_list}\n",
    "    print('Exchange rate for ', str(base_currency), ':', desired_currency_pair_prices)\n",
    "\n",
    "    # Base currency is stored in data['base']\n",
    "    print('Base currency:', data['source'])\n",
    "\n",
    "    # Timestamp can be accessed in data['timestamp']\n",
    "    print('Timestamp:', data['timestamp'])\n",
    "\n",
    "else:\n",
    "    print(f\"Error: {response.status_code} - {response.text}\")\n",
    "\n",
    "\n"
   ]
  },
  {
   "cell_type": "code",
   "execution_count": 3,
   "metadata": {},
   "outputs": [],
   "source": [
    "# #\n",
    "\n",
    "# today_date = datetime.now()\n",
    "\n",
    "\n",
    "# get_historical_data = source_Code.get_historical_price_update(today_date)\n",
    "# print(get_historical_data)\n"
   ]
  },
  {
   "cell_type": "code",
   "execution_count": 7,
   "metadata": {},
   "outputs": [
    {
     "name": "stdout",
     "output_type": "stream",
     "text": [
      "<class 'datetime.datetime'>\n",
      "<class 'datetime.datetime'>\n",
      "http://api.currencylayer.com/timeframe?access_key=3b77809c36c4efa417e527324a9ec241&source=EUR&start_date=2023-10-06 00:00:00&end_date=2023-11-22 17:55:25.278588\n"
     ]
    }
   ],
   "source": [
    "base_currency = str(BASE_CURRENCY_SYMBOL)\n",
    "\n",
    "from datetime import datetime\n",
    "\n",
    "# Get the current date and time\n",
    "today_date = datetime.now()\n",
    "\n",
    "# Convert today_date to a string in the format \"%Y-%m-%d\"\n",
    "today_date_str = today_date.strftime(\"%Y-%m-%d\")\n",
    "\n",
    "date_string = \"2023-10-06\"\n",
    "date_format = \"%Y-%m-%d\"\n",
    "\n",
    "# Convert date_string to a datetime object\n",
    "date_object = datetime.strptime(date_string, date_format)\n",
    "\n",
    "# Convert date_object to a string in the format \"%Y-%m-%d\"\n",
    "end_date = date_object.strftime(\"%Y-%m-%d\")\n",
    "\n",
    "\n",
    "# Convert end_date_str back to a datetime object\n",
    "end_date = datetime.strptime(end_date, \"%Y-%m-%d\")\n",
    "\n",
    "print(type(today_date))\n",
    "print(type(end_date))\n",
    "\n",
    "\n",
    "\n",
    "\n",
    "get_historical_data = source_Code.get_time_series_data(base_currency,end_date, today_date)\n",
    "print(get_historical_data)\n"
   ]
  },
  {
   "cell_type": "code",
   "execution_count": 3,
   "metadata": {},
   "outputs": [
    {
     "ename": "KeyboardInterrupt",
     "evalue": "",
     "output_type": "error",
     "traceback": [
      "\u001b[1;31m---------------------------------------------------------------------------\u001b[0m",
      "\u001b[1;31mKeyboardInterrupt\u001b[0m                         Traceback (most recent call last)",
      "\u001b[1;32mc:\\Users\\stanf\\OneDrive\\Documents\\Projects\\Python\\Trading bot\\Patosh\\Trading bot\\trad_bot.ipynb Cell 6\u001b[0m line \u001b[0;36m2\n\u001b[0;32m     <a href='vscode-notebook-cell:/c%3A/Users/stanf/OneDrive/Documents/Projects/Python/Trading%20bot/Patosh/Trading%20bot/trad_bot.ipynb#W5sZmlsZQ%3D%3D?line=19'>20</a>\u001b[0m button\u001b[39m.\u001b[39mgrid(row\u001b[39m=\u001b[39m\u001b[39m1\u001b[39m, column\u001b[39m=\u001b[39m\u001b[39m0\u001b[39m, padx\u001b[39m=\u001b[39m\u001b[39m10\u001b[39m, pady\u001b[39m=\u001b[39m\u001b[39m10\u001b[39m)\n\u001b[0;32m     <a href='vscode-notebook-cell:/c%3A/Users/stanf/OneDrive/Documents/Projects/Python/Trading%20bot/Patosh/Trading%20bot/trad_bot.ipynb#W5sZmlsZQ%3D%3D?line=21'>22</a>\u001b[0m \u001b[39m# Run the main loop\u001b[39;00m\n\u001b[1;32m---> <a href='vscode-notebook-cell:/c%3A/Users/stanf/OneDrive/Documents/Projects/Python/Trading%20bot/Patosh/Trading%20bot/trad_bot.ipynb#W5sZmlsZQ%3D%3D?line=22'>23</a>\u001b[0m root\u001b[39m.\u001b[39;49mmainloop()\n",
      "File \u001b[1;32mc:\\Users\\stanf\\AppData\\Local\\Programs\\Python\\Python311\\Lib\\tkinter\\__init__.py:1485\u001b[0m, in \u001b[0;36mMisc.mainloop\u001b[1;34m(self, n)\u001b[0m\n\u001b[0;32m   1483\u001b[0m \u001b[39mdef\u001b[39;00m \u001b[39mmainloop\u001b[39m(\u001b[39mself\u001b[39m, n\u001b[39m=\u001b[39m\u001b[39m0\u001b[39m):\n\u001b[0;32m   1484\u001b[0m \u001b[39m    \u001b[39m\u001b[39m\"\"\"Call the mainloop of Tk.\"\"\"\u001b[39;00m\n\u001b[1;32m-> 1485\u001b[0m     \u001b[39mself\u001b[39;49m\u001b[39m.\u001b[39;49mtk\u001b[39m.\u001b[39;49mmainloop(n)\n",
      "\u001b[1;31mKeyboardInterrupt\u001b[0m: "
     ]
    }
   ],
   "source": [
    "import tkinter as tk\n",
    "from tkinter import ttk\n",
    "from tkcalendar import Calendar, DateEntry\n",
    "from datetime import datetime\n",
    "\n",
    "def on_date_change():\n",
    "    selected_date = cal.get_date()\n",
    "    print(\"Selected Date:\", selected_date)\n",
    "\n",
    "# Create the main window\n",
    "root = tk.Tk()\n",
    "root.title(\"Date-Time Picker\")\n",
    "\n",
    "# Create a DateEntry widget\n",
    "cal = DateEntry(root, width=12, background='darkblue', foreground='white', borderwidth=2)\n",
    "cal.grid(row=0, column=0, padx=10, pady=10)\n",
    "\n",
    "# Create a button to trigger an action on date selection\n",
    "button = ttk.Button(root, text=\"Get Selected Date\", command=on_date_change)\n",
    "button.grid(row=1, column=0, padx=10, pady=10)\n",
    "\n",
    "# Run the main loop\n",
    "root.mainloop()"
   ]
  },
  {
   "cell_type": "code",
   "execution_count": null,
   "metadata": {},
   "outputs": [
    {
     "name": "stdout",
     "output_type": "stream",
     "text": [
      "Data from the API:\n",
      "{'success': True, 'terms': 'https://currencylayer.com/terms', 'privacy': 'https://currencylayer.com/privacy', 'timestamp': 1700497323, 'source': 'EUR', 'quotes': {'EURAED': 4.018263, 'EURAFN': 76.04459, 'EURALL': 104.079298, 'EURAMD': 440.046673, 'EURANG': 1.971049, 'EURAOA': 905.532965, 'EURARS': 387.112952, 'EURAUD': 1.670483, 'EURAWG': 1.969225, 'EURAZN': 1.870779, 'EURBAM': 1.958278, 'EURBBD': 2.208194, 'EURBDT': 121.121577, 'EURBGN': 1.955621, 'EURBHD': 0.412341, 'EURBIF': 3117.94019, 'EURBMD': 1.094014, 'EURBND': 1.46512, 'EURBOB': 7.557389, 'EURBRL': 5.323801, 'EURBSD': 1.093669, 'EURBTC': 2.9308816e-05, 'EURBTN': 91.136219, 'EURBWP': 14.699261, 'EURBYN': 3.602576, 'EURBYR': 21442.676396, 'EURBZD': 2.204439, 'EURCAD': 1.502344, 'EURCDF': 2872.880967, 'EURCHF': 0.967439, 'EURCLF': 0.03489, 'EURCLP': 962.64451, 'EURCNY': 7.8431, 'EURCOP': 4432.321553, 'EURCRC': 581.222056, 'EURCUC': 1.094014, 'EURCUP': 28.991374, 'EURCVE': 110.401143, 'EURCZK': 24.505044, 'EURDJF': 194.721904, 'EURDKK': 7.456603, 'EURDOP': 62.057094, 'EURDZD': 146.80795, 'EUREGP': 33.845878, 'EURERN': 16.410212, 'EURETB': 61.16839, 'EURFJD': 2.462954, 'EURFKP': 0.877926, 'EURGBP': 0.875561, 'EURGEL': 2.948389, 'EURGGP': 0.877926, 'EURGHS': 13.077246, 'EURGIP': 0.877926, 'EURGMD': 73.572858, 'EURGNF': 9396.759557, 'EURGTQ': 8.568645, 'EURGYD': 228.994482, 'EURHKD': 8.526166, 'EURHNL': 27.010172, 'EURHRK': 7.703577, 'EURHTG': 144.970097, 'EURHUF': 379.789149, 'EURIDR': 16865.157292, 'EURILS': 4.077927, 'EURIMP': 0.877926, 'EURINR': 91.182192, 'EURIQD': 1431.611216, 'EURIRR': 46235.768314, 'EURISK': 152.50921, 'EURJEP': 0.877926, 'EURJMD': 170.081293, 'EURJOD': 0.775987, 'EURJPY': 162.299731, 'EURKES': 166.78199, 'EURKGS': 97.496136, 'EURKHR': 4496.54499, 'EURKMF': 496.27215, 'EURKPW': 984.61269, 'EURKRW': 1411.010184, 'EURKWD': 0.337171, 'EURKYD': 0.911324, 'EURKZT': 506.148792, 'EURLAK': 22635.119777, 'EURLBP': 16438.621822, 'EURLKR': 358.335162, 'EURLRD': 205.510446, 'EURLSL': 20.097236, 'EURLTL': 3.23034, 'EURLVL': 0.661758, 'EURLYD': 5.298485, 'EURMAD': 11.095985, 'EURMDL': 19.412116, 'EURMGA': 4955.246528, 'EURMKD': 61.506235, 'EURMMK': 2296.653149, 'EURMNT': 3763.8549, 'EURMOP': 8.779407, 'EURMRO': 390.562846, 'EURMUR': 48.240224, 'EURMVR': 16.902079, 'EURMWK': 1840.987072, 'EURMXN': 18.750942, 'EURMYR': 5.106308, 'EURMZN': 69.196337, 'EURNAD': 20.097323, 'EURNGN': 897.288408, 'EURNIO': 40.030645, 'EURNOK': 11.714714, 'EURNPR': 145.82082, 'EURNZD': 1.817311, 'EUROMR': 0.42115, 'EURPAB': 1.093659, 'EURPEN': 4.118116, 'EURPGK': 4.078066, 'EURPHP': 60.353442, 'EURPKR': 308.951513, 'EURPLN': 4.356656, 'EURPYG': 8125.093864, 'EURQAR': 3.983291, 'EURRON': 4.971856, 'EURRSD': 117.343704, 'EURRUB': 96.574072, 'EURRWF': 1346.272484, 'EURSAR': 4.103059, 'EURSBD': 9.211229, 'EURSCR': 14.197107, 'EURSDG': 657.502497, 'EURSEK': 11.447928, 'EURSGD': 1.464617, 'EURSHP': 1.331141, 'EURSLE': 24.62061, 'EURSLL': 21606.77848, 'EURSOS': 624.682665, 'EURSRD': 41.622311, 'EURSTD': 22643.883102, 'EURSYP': 14224.402387, 'EURSZL': 20.114989, 'EURTHB': 38.496199, 'EURTJS': 11.937029, 'EURTMT': 3.829049, 'EURTND': 3.407306, 'EURTOP': 2.605285, 'EURTRY': 31.463764, 'EURTTD': 7.431368, 'EURTWD': 34.489341, 'EURTZS': 2732.847724, 'EURUAH': 39.399446, 'EURUGX': 4132.227926, 'EURUSD': 1.094014, 'EURUYU': 43.283376, 'EURUZS': 13426.802947, 'EURVEF': 3867022.078738, 'EURVES': 38.69152, 'EURVND': 26453.260983, 'EURVUV': 131.665756, 'EURWST': 3.023843, 'EURXAF': 656.772914, 'EURXAG': 0.046499, 'EURXAU': 0.000554, 'EURXCD': 2.956628, 'EURXDR': 0.824124, 'EURXOF': 656.766903, 'EURXPF': 120.83376, 'EURYER': 273.925093, 'EURZAR': 20.107706, 'EURZMK': 9847.438042, 'EURZMW': 25.426588, 'EURZWL': 352.272094}}\n"
     ]
    }
   ],
   "source": [
    "# Make a GET request\n",
    "response = requests.get(live_price_data)\n",
    "\n",
    "# Check if the request was successful (status code 200)\n",
    "if response.status_code == 200:\n",
    "    # The content of the response (usually in JSON format for APIs)\n",
    "    data = response.json()\n",
    "    print(\"Data from the API:\")\n",
    "    print(data)\n",
    "else:\n",
    "    print(f\"Error: {response.status_code} - {response.text}\")"
   ]
  },
  {
   "cell_type": "code",
   "execution_count": 9,
   "metadata": {},
   "outputs": [],
   "source": [
    "import tkinter as tk\n",
    "from tkinter import messagebox\n",
    "\n",
    "def on_button_click():\n",
    "    user_name = entry.get()\n",
    "    messagebox.showinfo(\"Greetings\", f\"Hello, {user_name}!\")\n",
    "\n",
    "# Create the main window\n",
    "root = tk.Tk()\n",
    "root.title(\"Simple GUI App\")\n",
    "\n",
    "# Create a label\n",
    "label = tk.Label(root, text=\"Enter your name:\")\n",
    "label.pack(pady=10)\n",
    "\n",
    "# Create an entry widget\n",
    "entry = tk.Entry(root)\n",
    "entry.pack(pady=10)\n",
    "\n",
    "# Create a button\n",
    "button = tk.Button(root, text=\"Say Hello\", command=on_button_click)\n",
    "button.pack(pady=10)\n",
    "\n",
    "# Run the main loop\n",
    "root.mainloop()\n"
   ]
  },
  {
   "cell_type": "code",
   "execution_count": 2,
   "metadata": {},
   "outputs": [],
   "source": [
    "# imports\n",
    "import ccxt\n",
    "import pandas as pd"
   ]
  },
  {
   "cell_type": "code",
   "execution_count": 3,
   "metadata": {},
   "outputs": [],
   "source": [
    "# # Function to input data into strategy\n",
    "\n",
    "# def get_data(currency_pair, timeframe, limit_data):\n",
    "#     broker_= cctx.binance()\n",
    "#     ohlcv = broker_.fetch_ohlcv(currency_pair, timeframe, limit_data)\n",
    "    \n",
    "#     df = pd.DataFrame(ohlcv, columns=['timestamp', 'open', 'high', 'low', 'close', 'volume'])\n",
    "#     df['timestamp'] = pd.to_datetime(df['timestamp'], unit='ms')\n",
    "#     return df.set_index('timestamp')\n",
    "                      "
   ]
  },
  {
   "cell_type": "code",
   "execution_count": 4,
   "metadata": {},
   "outputs": [],
   "source": [
    "# # startegy writing\n",
    "# def moving_average_crossover_strategy(df, short_window, long_window):\n",
    "#     signals = pd.DataFrame(index=df.index)\n",
    "#     signals['signal'] = 0.0\n",
    "    \n",
    "#     # Create short simple moving average\n",
    "#     signals['short_mavg'] = df['close'].rolling(window=short_window, min_periods=1, center=False).mean()\n",
    "\n",
    "#     # Create long simple moving average\n",
    "#     signals['long_mavg'] = df['close'].rolling(window=long_window, min_periods=1, center=False).mean()\n",
    "\n",
    "#     # Create signals\n",
    "#     signals['signal'][short_window:] = np.where(signals['short_mavg'][short_window:] > signals['long_mavg'][short_window:], 1.0, 0.0)\n",
    "\n",
    "#     # Generate trading orders\n",
    "#     signals['positions'] = signals['signal'].diff()\n",
    "\n",
    "#     return signals\n",
    "\n",
    "\n"
   ]
  },
  {
   "cell_type": "code",
   "execution_count": 5,
   "metadata": {},
   "outputs": [],
   "source": [
    "# # Execute trade\n",
    "\n",
    "\n",
    "# def execute_trades(signals):\n",
    "#     broker_= cctx.binance()\n",
    "#     curreny_pair = 'EUR/USD'\n",
    "    \n",
    "#     for index, row in signals.iterrows():\n",
    "#         if row['positions'] == 1.0:\n",
    "#             print(\"Buy Signal - Execute Buy Order\")\n",
    "            \n",
    "#         elif row['positions'] == -1.0:\n",
    "#             print(\"Sell Signal - Execute Sell Order\")\n",
    "                                                                                                                                                                                                                                                                                                                                                                                                                \n",
    "\n",
    "# # Example usage\n",
    "# if __name__ == '__main__':\n",
    "#     symbol = 'EUR/USD'\n",
    "#     timeframe = '1h'\n",
    "#     limit = 100\n",
    "#     short_window = 40\n",
    "#     long_window = 100\n",
    "\n",
    "#     historical_data = get_data(symbol, timeframe, limit)\n",
    "#     signals = moving_average_crossover_strategy(historical_data, short_window, long_window)\n",
    "#     execute_trades(signals)\n",
    "\n",
    "        \n"
   ]
  },
  {
   "cell_type": "code",
   "execution_count": null,
   "metadata": {},
   "outputs": [],
   "source": [
    "# "
   ]
  },
  {
   "cell_type": "code",
   "execution_count": null,
   "metadata": {},
   "outputs": [],
   "source": []
  },
  {
   "cell_type": "code",
   "execution_count": null,
   "metadata": {},
   "outputs": [],
   "source": [
    "import tkinter as tk\n",
    "from tkinter import messagebox\n",
    "\n",
    "def on_button_click():\n",
    "    user_name = entry.get()\n",
    "    messagebox.showinfo(\"Greetings\", f\"Hello, {user_name}!\")\n",
    "\n",
    "# Create the main window\n",
    "root = tk.Tk()\n",
    "root.title(\"Simple GUI App\")\n",
    "\n",
    "# Create a label\n",
    "label = tk.Label(root, text=\"Enter your name:\")\n",
    "label.pack(pady=10)\n",
    "\n",
    "# Create an entry widget\n",
    "entry = tk.Entry(root)\n",
    "entry.pack(pady=10)\n",
    "\n",
    "# Create a button\n",
    "button = tk.Button(root, text=\"Say Hello\", command=on_button_click)\n",
    "button.pack(pady=10)\n",
    "\n",
    "# Run the main loop\n",
    "root.mainloop()\n"
   ]
  }
 ],
 "metadata": {
  "kernelspec": {
   "display_name": "Python 3",
   "language": "python",
   "name": "python3"
  },
  "language_info": {
   "codemirror_mode": {
    "name": "ipython",
    "version": 3
   },
   "file_extension": ".py",
   "mimetype": "text/x-python",
   "name": "python",
   "nbconvert_exporter": "python",
   "pygments_lexer": "ipython3",
   "version": "3.11.4"
  }
 },
 "nbformat": 4,
 "nbformat_minor": 2
}
