{
 "cells": [
  {
   "cell_type": "markdown",
   "metadata": {},
   "source": [
    "This is a python trading bot;\n",
    "\n",
    "- GOAL: Build an alogo trading bot that can incoporate price action strategies with the help of AI"
   ]
  },
  {
   "cell_type": "code",
   "execution_count": 5,
   "metadata": {},
   "outputs": [],
   "source": [
    "# imports\n",
    "import requests\n",
    "import source_Code\n",
    "import json\n",
    "import numpy as np\n",
    "import pandas as pd"
   ]
  },
  {
   "cell_type": "code",
   "execution_count": 8,
   "metadata": {},
   "outputs": [
    {
     "name": "stdout",
     "output_type": "stream",
     "text": [
      "Exchange rate for  EUR : {'EURUSD': 1.094182, 'EURAUD': 1.6708, 'EURGBP': 0.875509, 'EURCAD': 1.502076}\n",
      "Base currency: EUR\n",
      "Timestamp: 1700497023\n"
     ]
    }
   ],
   "source": [
    "# 1. Set the base and desired financial assets for analysis:\n",
    "BASE_CURRENCY_SYMBOL = 'EUR'\n",
    "base_currency = str(BASE_CURRENCY_SYMBOL)\n",
    "desired_currency_list = ['USD', 'AUD', 'GBP', 'CAD']\n",
    "\n",
    "# 2. Make the API request using requests library to get get live data \n",
    "full_base_currency_list = []\n",
    "\n",
    "# 2.1 Append the base currency to new desired currency list\n",
    "for single_pair in desired_currency_list:\n",
    "    curren_pair = base_currency + single_pair\n",
    "    full_base_currency_list.append(curren_pair)\n",
    "       \n",
    "# 2.2 Get the price of the currency pair.\n",
    "response = requests.get(source_Code.get_live_price_update(base_currency, full_base_currency_list))\n",
    "\n",
    "\n",
    "# 3. Check if the request was successful (status code 200)\n",
    "if response.status_code == 200:\n",
    "    # Parse the JSON content of the response\n",
    "    data = response.json()\n",
    "\n",
    "    # Exchange rate data is stored in data['rates']\n",
    "    desired_currency_pair_prices = {currency_pair: data['quotes'][currency_pair] for currency_pair in full_base_currency_list}\n",
    "    print('Exchange rate for ', str(base_currency), ':', desired_currency_pair_prices)\n",
    "\n",
    "    # Base currency is stored in data['base']\n",
    "    print('Base currency:', data['source'])\n",
    "\n",
    "    # Timestamp can be accessed in data['timestamp']\n",
    "    print('Timestamp:', data['timestamp'])\n",
    "\n",
    "else:\n",
    "    print(f\"Error: {response.status_code} - {response.text}\")\n",
    "\n",
    "\n"
   ]
  },
  {
   "cell_type": "code",
   "execution_count": 62,
   "metadata": {},
   "outputs": [
    {
     "name": "stdout",
     "output_type": "stream",
     "text": [
      "Data from the API:\n",
      "{'success': True, 'terms': 'https://currencylayer.com/terms', 'privacy': 'https://currencylayer.com/privacy', 'timestamp': 1700494743, 'source': 'EUR', 'quotes': {'EURAED': 4.014807, 'EURAFN': 75.647457, 'EURALL': 103.987743, 'EURAMD': 439.659579, 'EURANG': 1.969315, 'EURAOA': 904.736437, 'EURARS': 386.777683, 'EURAUD': 1.670005, 'EURAWG': 1.967493, 'EURAZN': 1.859949, 'EURBAM': 1.956555, 'EURBBD': 2.206251, 'EURBDT': 121.015031, 'EURBGN': 1.956836, 'EURBHD': 0.412069, 'EURBIF': 3099.324929, 'EURBMD': 1.093052, 'EURBND': 1.463831, 'EURBOB': 7.550741, 'EURBRL': 5.315405, 'EURBSD': 1.092707, 'EURBTC': 2.9317363e-05, 'EURBTN': 91.05605, 'EURBWP': 14.686331, 'EURBYN': 3.599406, 'EURBYR': 21423.813976, 'EURBZD': 2.202499, 'EURCAD': 1.501389, 'EURCDF': 2870.354167, 'EURCHF': 0.966438, 'EURCLF': 0.034871, 'EURCLP': 962.181293, 'EURCNY': 7.835318, 'EURCOP': 4417.207874, 'EURCRC': 580.710774, 'EURCUC': 1.093052, 'EURCUP': 28.965871, 'EURCVE': 110.304027, 'EURCZK': 24.519119, 'EURDJF': 194.550614, 'EURDKK': 7.455886, 'EURDOP': 62.002504, 'EURDZD': 146.472671, 'EUREGP': 33.816065, 'EURERN': 16.395776, 'EURETB': 61.114582, 'EURFJD': 2.460786, 'EURFKP': 0.877153, 'EURGBP': 0.875698, 'EURGEL': 2.945786, 'EURGGP': 0.877153, 'EURGHS': 13.065742, 'EURGIP': 0.877153, 'EURGMD': 73.507975, 'EURGNF': 9388.493535, 'EURGTQ': 8.561107, 'EURGYD': 228.793043, 'EURHKD': 8.519043, 'EURHNL': 26.986412, 'EURHRK': 7.6968, 'EURHTG': 144.842572, 'EURHUF': 379.715505, 'EURIDR': 16873.43961, 'EURILS': 4.073361, 'EURIMP': 0.877153, 'EURINR': 91.098156, 'EURIQD': 1430.351874, 'EURIRR': 46195.097407, 'EURISK': 152.502773, 'EURJEP': 0.877153, 'EURJMD': 169.931678, 'EURJOD': 0.775303, 'EURJPY': 162.216495, 'EURKES': 166.63588, 'EURKGS': 97.410369, 'EURKHR': 4492.589527, 'EURKMF': 495.835601, 'EURKPW': 983.746558, 'EURKRW': 1410.922051, 'EURKWD': 0.336889, 'EURKYD': 0.910522, 'EURKZT': 505.70355, 'EURLAK': 22615.208404, 'EURLBP': 16424.161305, 'EURLKR': 358.019947, 'EURLRD': 205.329971, 'EURLSL': 20.078848, 'EURLTL': 3.227497, 'EURLVL': 0.661177, 'EURLYD': 5.293825, 'EURMAD': 11.086224, 'EURMDL': 19.39504, 'EURMGA': 4950.88756, 'EURMKD': 61.494563, 'EURMMK': 2294.632859, 'EURMNT': 3760.54396, 'EURMOP': 8.771684, 'EURMRO': 390.219281, 'EURMUR': 48.20436, 'EURMVR': 16.887577, 'EURMWK': 1839.367616, 'EURMXN': 18.746089, 'EURMYR': 5.101815, 'EURMZN': 69.135467, 'EURNAD': 20.079602, 'EURNGN': 896.498934, 'EURNIO': 39.995431, 'EURNOK': 11.720428, 'EURNPR': 145.692546, 'EURNZD': 1.817614, 'EUROMR': 0.420768, 'EURPAB': 1.092697, 'EURPEN': 4.114493, 'EURPGK': 4.074479, 'EURPHP': 60.373621, 'EURPKR': 308.679738, 'EURPLN': 4.356877, 'EURPYG': 8117.946486, 'EURQAR': 3.979804, 'EURRON': 4.972071, 'EURRSD': 117.240481, 'EURRUB': 96.450338, 'EURRWF': 1345.088213, 'EURSAR': 4.099513, 'EURSBD': 9.203126, 'EURSCR': 14.183611, 'EURSDG': 656.923988, 'EURSEK': 11.452014, 'EURSGD': 1.464318, 'EURSHP': 1.329971, 'EURSLE': 24.598952, 'EURSLL': 21587.772044, 'EURSOS': 624.132587, 'EURSRD': 41.585698, 'EURSTD': 22623.96402, 'EURSYP': 14211.889647, 'EURSZL': 20.097295, 'EURTHB': 38.47866, 'EURTJS': 11.926529, 'EURTMT': 3.825681, 'EURTND': 3.40431, 'EURTOP': 2.602997, 'EURTRY': 31.445133, 'EURTTD': 7.424831, 'EURTWD': 34.475117, 'EURTZS': 2730.443474, 'EURUAH': 39.364788, 'EURUGX': 4128.59294, 'EURUSD': 1.093052, 'EURUYU': 43.245301, 'EURUZS': 13414.991828, 'EURVEF': 3863620.386093, 'EURVES': 38.657484, 'EURVND': 26429.990915, 'EURVUV': 131.549933, 'EURWST': 3.021183, 'EURXAF': 656.195172, 'EURXAG': 0.046513, 'EURXAU': 0.000555, 'EURXCD': 2.954027, 'EURXDR': 0.823399, 'EURXOF': 656.189167, 'EURXPF': 120.727813, 'EURYER': 273.698473, 'EURZAR': 20.127785, 'EURZMK': 9838.782194, 'EURZMW': 25.404221, 'EURZWL': 351.962212}}\n"
     ]
    }
   ],
   "source": [
    "# Make a GET request\n",
    "response = requests.get(url)\n",
    "\n",
    "# Check if the request was successful (status code 200)\n",
    "if response.status_code == 200:\n",
    "    # The content of the response (usually in JSON format for APIs)\n",
    "    data = response.json()\n",
    "    print(\"Data from the API:\")\n",
    "    print(data)\n",
    "else:\n",
    "    print(f\"Error: {response.status_code} - {response.text}\")"
   ]
  },
  {
   "cell_type": "code",
   "execution_count": 2,
   "metadata": {},
   "outputs": [],
   "source": [
    "# imports\n",
    "import ccxt\n",
    "import pandas as pd"
   ]
  },
  {
   "cell_type": "code",
   "execution_count": 3,
   "metadata": {},
   "outputs": [],
   "source": [
    "# Function to input data into strategy\n",
    "\n",
    "def get_data(currency_pair, timeframe, limit_data):\n",
    "    broker_= cctx.binance()\n",
    "    ohlcv = broker_.fetch_ohlcv(currency_pair, timeframe, limit_data)\n",
    "    \n",
    "    df = pd.DataFrame(ohlcv, columns=['timestamp', 'open', 'high', 'low', 'close', 'volume'])\n",
    "    df['timestamp'] = pd.to_datetime(df['timestamp'], unit='ms')\n",
    "    return df.set_index('timestamp')\n",
    "                      "
   ]
  },
  {
   "cell_type": "code",
   "execution_count": 4,
   "metadata": {},
   "outputs": [],
   "source": [
    "# startegy writing\n",
    "def moving_average_crossover_strategy(df, short_window, long_window):\n",
    "    signals = pd.DataFrame(index=df.index)\n",
    "    signals['signal'] = 0.0\n",
    "    \n",
    "    # Create short simple moving average\n",
    "    signals['short_mavg'] = df['close'].rolling(window=short_window, min_periods=1, center=False).mean()\n",
    "\n",
    "    # Create long simple moving average\n",
    "    signals['long_mavg'] = df['close'].rolling(window=long_window, min_periods=1, center=False).mean()\n",
    "\n",
    "    # Create signals\n",
    "    signals['signal'][short_window:] = np.where(signals['short_mavg'][short_window:] > signals['long_mavg'][short_window:], 1.0, 0.0)\n",
    "\n",
    "    # Generate trading orders\n",
    "    signals['positions'] = signals['signal'].diff()\n",
    "\n",
    "    return signals\n",
    "\n",
    "\n"
   ]
  },
  {
   "cell_type": "code",
   "execution_count": 5,
   "metadata": {},
   "outputs": [
    {
     "ename": "NameError",
     "evalue": "name 'cctx' is not defined",
     "output_type": "error",
     "traceback": [
      "\u001b[1;31m---------------------------------------------------------------------------\u001b[0m",
      "\u001b[1;31mNameError\u001b[0m                                 Traceback (most recent call last)",
      "\u001b[1;32mc:\\Users\\stanf\\OneDrive\\Documents\\Projects\\Python\\Trading bot\\Patosh\\Trading bot\\trad_bot.ipynb Cell 5\u001b[0m line \u001b[0;36m2\n\u001b[0;32m     <a href='vscode-notebook-cell:/c%3A/Users/stanf/OneDrive/Documents/Projects/Python/Trading%20bot/Patosh/Trading%20bot/trad_bot.ipynb#W5sZmlsZQ%3D%3D?line=20'>21</a>\u001b[0m short_window \u001b[39m=\u001b[39m \u001b[39m40\u001b[39m\n\u001b[0;32m     <a href='vscode-notebook-cell:/c%3A/Users/stanf/OneDrive/Documents/Projects/Python/Trading%20bot/Patosh/Trading%20bot/trad_bot.ipynb#W5sZmlsZQ%3D%3D?line=21'>22</a>\u001b[0m long_window \u001b[39m=\u001b[39m \u001b[39m100\u001b[39m\n\u001b[1;32m---> <a href='vscode-notebook-cell:/c%3A/Users/stanf/OneDrive/Documents/Projects/Python/Trading%20bot/Patosh/Trading%20bot/trad_bot.ipynb#W5sZmlsZQ%3D%3D?line=23'>24</a>\u001b[0m historical_data \u001b[39m=\u001b[39m get_data(symbol, timeframe, limit)\n\u001b[0;32m     <a href='vscode-notebook-cell:/c%3A/Users/stanf/OneDrive/Documents/Projects/Python/Trading%20bot/Patosh/Trading%20bot/trad_bot.ipynb#W5sZmlsZQ%3D%3D?line=24'>25</a>\u001b[0m signals \u001b[39m=\u001b[39m moving_average_crossover_strategy(historical_data, short_window, long_window)\n\u001b[0;32m     <a href='vscode-notebook-cell:/c%3A/Users/stanf/OneDrive/Documents/Projects/Python/Trading%20bot/Patosh/Trading%20bot/trad_bot.ipynb#W5sZmlsZQ%3D%3D?line=25'>26</a>\u001b[0m execute_trades(signals)\n",
      "\u001b[1;32mc:\\Users\\stanf\\OneDrive\\Documents\\Projects\\Python\\Trading bot\\Patosh\\Trading bot\\trad_bot.ipynb Cell 5\u001b[0m line \u001b[0;36m4\n\u001b[0;32m      <a href='vscode-notebook-cell:/c%3A/Users/stanf/OneDrive/Documents/Projects/Python/Trading%20bot/Patosh/Trading%20bot/trad_bot.ipynb#W5sZmlsZQ%3D%3D?line=2'>3</a>\u001b[0m \u001b[39mdef\u001b[39;00m \u001b[39mget_data\u001b[39m(currency_pair, timeframe, limit_data):\n\u001b[1;32m----> <a href='vscode-notebook-cell:/c%3A/Users/stanf/OneDrive/Documents/Projects/Python/Trading%20bot/Patosh/Trading%20bot/trad_bot.ipynb#W5sZmlsZQ%3D%3D?line=3'>4</a>\u001b[0m     broker_\u001b[39m=\u001b[39m cctx\u001b[39m.\u001b[39mbinance()\n\u001b[0;32m      <a href='vscode-notebook-cell:/c%3A/Users/stanf/OneDrive/Documents/Projects/Python/Trading%20bot/Patosh/Trading%20bot/trad_bot.ipynb#W5sZmlsZQ%3D%3D?line=4'>5</a>\u001b[0m     ohlcv \u001b[39m=\u001b[39m broker_\u001b[39m.\u001b[39mfetch_ohlcv(currency_pair, timeframe, limit_data)\n\u001b[0;32m      <a href='vscode-notebook-cell:/c%3A/Users/stanf/OneDrive/Documents/Projects/Python/Trading%20bot/Patosh/Trading%20bot/trad_bot.ipynb#W5sZmlsZQ%3D%3D?line=6'>7</a>\u001b[0m     df \u001b[39m=\u001b[39m pd\u001b[39m.\u001b[39mDataFrame(ohlcv, columns\u001b[39m=\u001b[39m[\u001b[39m'\u001b[39m\u001b[39mtimestamp\u001b[39m\u001b[39m'\u001b[39m, \u001b[39m'\u001b[39m\u001b[39mopen\u001b[39m\u001b[39m'\u001b[39m, \u001b[39m'\u001b[39m\u001b[39mhigh\u001b[39m\u001b[39m'\u001b[39m, \u001b[39m'\u001b[39m\u001b[39mlow\u001b[39m\u001b[39m'\u001b[39m, \u001b[39m'\u001b[39m\u001b[39mclose\u001b[39m\u001b[39m'\u001b[39m, \u001b[39m'\u001b[39m\u001b[39mvolume\u001b[39m\u001b[39m'\u001b[39m])\n",
      "\u001b[1;31mNameError\u001b[0m: name 'cctx' is not defined"
     ]
    }
   ],
   "source": [
    "# Execute trade\n",
    "\n",
    "\n",
    "def execute_trades(signals):\n",
    "    broker_= cctx.binance()\n",
    "    curreny_pair = 'EUR/USD'\n",
    "    \n",
    "    for index, row in signals.iterrows():\n",
    "        if row['positions'] == 1.0:\n",
    "            print(\"Buy Signal - Execute Buy Order\")\n",
    "            \n",
    "        elif row['positions'] == -1.0:\n",
    "            print(\"Sell Signal - Execute Sell Order\")\n",
    "                                                                                                                                                                                                                                                                                                                                                                                                                \n",
    "\n",
    "# Example usage\n",
    "if __name__ == '__main__':\n",
    "    symbol = 'EUR/USD'\n",
    "    timeframe = '1h'\n",
    "    limit = 100\n",
    "    short_window = 40\n",
    "    long_window = 100\n",
    "\n",
    "    historical_data = get_data(symbol, timeframe, limit)\n",
    "    signals = moving_average_crossover_strategy(historical_data, short_window, long_window)\n",
    "    execute_trades(signals)\n",
    "\n",
    "        \n"
   ]
  },
  {
   "cell_type": "code",
   "execution_count": null,
   "metadata": {},
   "outputs": [],
   "source": []
  }
 ],
 "metadata": {
  "kernelspec": {
   "display_name": "Python 3",
   "language": "python",
   "name": "python3"
  },
  "language_info": {
   "codemirror_mode": {
    "name": "ipython",
    "version": 3
   },
   "file_extension": ".py",
   "mimetype": "text/x-python",
   "name": "python",
   "nbconvert_exporter": "python",
   "pygments_lexer": "ipython3",
   "version": "3.11.4"
  }
 },
 "nbformat": 4,
 "nbformat_minor": 2
}
